{
 "cells": [
  {
   "cell_type": "markdown",
   "id": "8b4ad69e",
   "metadata": {},
   "source": [
    "## 1st Class\n",
    "    * int : 22, 45, 65\n",
    "    * float : 4.0, 54.4\n",
    "    * str : \"danial2023@gmail.com\", 'danial2023@gmail.com'"
   ]
  },
  {
   "cell_type": "code",
   "execution_count": 81,
   "id": "b696c3e2",
   "metadata": {},
   "outputs": [
    {
     "name": "stdout",
     "output_type": "stream",
     "text": [
      "45\n"
     ]
    }
   ],
   "source": [
    "print(45)"
   ]
  },
  {
   "cell_type": "code",
   "execution_count": 82,
   "id": "78098f26",
   "metadata": {},
   "outputs": [
    {
     "name": "stdout",
     "output_type": "stream",
     "text": [
      "45.6\n"
     ]
    }
   ],
   "source": [
    "print(45.6)"
   ]
  },
  {
   "cell_type": "code",
   "execution_count": 83,
   "id": "c1bea65b",
   "metadata": {},
   "outputs": [
    {
     "name": "stdout",
     "output_type": "stream",
     "text": [
      "danial2023@gmail.com\n"
     ]
    }
   ],
   "source": [
    "print(\"danial2023@gmail.com\")"
   ]
  },
  {
   "cell_type": "code",
   "execution_count": 84,
   "id": "d41109fb",
   "metadata": {},
   "outputs": [
    {
     "name": "stdout",
     "output_type": "stream",
     "text": [
      "9\n"
     ]
    }
   ],
   "source": [
    "print(4+5)"
   ]
  },
  {
   "cell_type": "code",
   "execution_count": 85,
   "id": "73aa7e4a",
   "metadata": {},
   "outputs": [
    {
     "name": "stdout",
     "output_type": "stream",
     "text": [
      "3.5\n"
     ]
    }
   ],
   "source": [
    "print(7/2)"
   ]
  },
  {
   "cell_type": "code",
   "execution_count": 86,
   "id": "7b84fb36",
   "metadata": {},
   "outputs": [
    {
     "name": "stdout",
     "output_type": "stream",
     "text": [
      "1\n"
     ]
    }
   ],
   "source": [
    "print(7%2)"
   ]
  },
  {
   "cell_type": "code",
   "execution_count": 87,
   "id": "6ec321c1",
   "metadata": {},
   "outputs": [
    {
     "name": "stdout",
     "output_type": "stream",
     "text": [
      "3\n"
     ]
    }
   ],
   "source": [
    "print(7//2)"
   ]
  },
  {
   "cell_type": "code",
   "execution_count": 8,
   "id": "ff5d3b3e",
   "metadata": {},
   "outputs": [
    {
     "name": "stdout",
     "output_type": "stream",
     "text": [
      "8\n"
     ]
    }
   ],
   "source": [
    "print(4*2)"
   ]
  },
  {
   "cell_type": "code",
   "execution_count": 9,
   "id": "a1fbae9a",
   "metadata": {},
   "outputs": [
    {
     "name": "stdout",
     "output_type": "stream",
     "text": [
      "16\n"
     ]
    }
   ],
   "source": [
    "print(4**2)"
   ]
  },
  {
   "cell_type": "markdown",
   "id": "a9118fe8",
   "metadata": {},
   "source": [
    "## Variable Declaration and Initialization syntax\n",
    "    * variable_name = value\n",
    "    * = assignment operator "
   ]
  },
  {
   "cell_type": "code",
   "execution_count": 10,
   "id": "faf36ac2",
   "metadata": {},
   "outputs": [],
   "source": [
    "num = 23"
   ]
  },
  {
   "cell_type": "code",
   "execution_count": 11,
   "id": "f7594370",
   "metadata": {},
   "outputs": [
    {
     "name": "stdout",
     "output_type": "stream",
     "text": [
      "23\n"
     ]
    }
   ],
   "source": [
    "print(num)"
   ]
  },
  {
   "cell_type": "code",
   "execution_count": 12,
   "id": "d243b3b4",
   "metadata": {},
   "outputs": [],
   "source": [
    "num = 20"
   ]
  },
  {
   "cell_type": "code",
   "execution_count": 13,
   "id": "23b9aff0",
   "metadata": {},
   "outputs": [
    {
     "name": "stdout",
     "output_type": "stream",
     "text": [
      "20\n"
     ]
    }
   ],
   "source": [
    "print(num)"
   ]
  },
  {
   "cell_type": "code",
   "execution_count": 14,
   "id": "83fc2bea",
   "metadata": {},
   "outputs": [
    {
     "name": "stdout",
     "output_type": "stream",
     "text": [
      "25\n"
     ]
    }
   ],
   "source": [
    "print(num + 5)"
   ]
  },
  {
   "cell_type": "code",
   "execution_count": 15,
   "id": "5cd05140",
   "metadata": {},
   "outputs": [
    {
     "name": "stdout",
     "output_type": "stream",
     "text": [
      "20\n"
     ]
    }
   ],
   "source": [
    "print(num)"
   ]
  },
  {
   "cell_type": "code",
   "execution_count": 66,
   "id": "a29b5f87",
   "metadata": {},
   "outputs": [],
   "source": [
    "num = num + 5"
   ]
  },
  {
   "cell_type": "code",
   "execution_count": 67,
   "id": "acf71d79",
   "metadata": {},
   "outputs": [
    {
     "name": "stdout",
     "output_type": "stream",
     "text": [
      "265\n"
     ]
    }
   ],
   "source": [
    "print(num)"
   ]
  },
  {
   "cell_type": "markdown",
   "id": "0ee990ed",
   "metadata": {},
   "source": [
    "# Legal Variable\n",
    "    1. Must Begin with a letter (a-z,A-Z) or underscore _ (Must)\n",
    "    2. Other Characters can be letters, numbers or underscore (Optional)"
   ]
  },
  {
   "cell_type": "code",
   "execution_count": 72,
   "id": "5372319b",
   "metadata": {},
   "outputs": [],
   "source": [
    "_123213 = 12"
   ]
  },
  {
   "cell_type": "code",
   "execution_count": 69,
   "id": "35b00c7e",
   "metadata": {},
   "outputs": [
    {
     "ename": "SyntaxError",
     "evalue": "invalid syntax (1070623058.py, line 1)",
     "output_type": "error",
     "traceback": [
      "\u001b[1;36m  File \u001b[1;32m\"C:\\Users\\techm\\AppData\\Local\\Temp\\ipykernel_5540\\1070623058.py\"\u001b[1;36m, line \u001b[1;32m1\u001b[0m\n\u001b[1;33m    1st_position = \"Ali\"\u001b[0m\n\u001b[1;37m     ^\u001b[0m\n\u001b[1;31mSyntaxError\u001b[0m\u001b[1;31m:\u001b[0m invalid syntax\n"
     ]
    }
   ],
   "source": [
    "1st_position = \"Ali\""
   ]
  },
  {
   "cell_type": "code",
   "execution_count": 70,
   "id": "97f20f3d",
   "metadata": {},
   "outputs": [],
   "source": [
    "position_1st = \"Ali\""
   ]
  },
  {
   "cell_type": "code",
   "execution_count": 71,
   "id": "44874717",
   "metadata": {},
   "outputs": [],
   "source": [
    "_ = 12"
   ]
  },
  {
   "cell_type": "markdown",
   "id": "bca79b7c",
   "metadata": {},
   "source": [
    "# Special Assignment Operator"
   ]
  },
  {
   "cell_type": "code",
   "execution_count": 73,
   "id": "4987e214",
   "metadata": {},
   "outputs": [],
   "source": [
    "num = 5 "
   ]
  },
  {
   "cell_type": "code",
   "execution_count": 74,
   "id": "04663c42",
   "metadata": {},
   "outputs": [],
   "source": [
    "num = num + 5"
   ]
  },
  {
   "cell_type": "code",
   "execution_count": 75,
   "id": "f7e9c807",
   "metadata": {},
   "outputs": [
    {
     "name": "stdout",
     "output_type": "stream",
     "text": [
      "10\n"
     ]
    }
   ],
   "source": [
    "print(num)"
   ]
  },
  {
   "cell_type": "code",
   "execution_count": 76,
   "id": "57a8ce45",
   "metadata": {},
   "outputs": [],
   "source": [
    "num += 5"
   ]
  },
  {
   "cell_type": "code",
   "execution_count": 77,
   "id": "370677d8",
   "metadata": {},
   "outputs": [
    {
     "name": "stdout",
     "output_type": "stream",
     "text": [
      "15\n"
     ]
    }
   ],
   "source": [
    "print(num)"
   ]
  },
  {
   "cell_type": "code",
   "execution_count": 78,
   "id": "82104182",
   "metadata": {},
   "outputs": [
    {
     "name": "stdout",
     "output_type": "stream",
     "text": [
      "3.0\n"
     ]
    }
   ],
   "source": [
    "num /= 5\n",
    "print(num)"
   ]
  },
  {
   "cell_type": "code",
   "execution_count": 79,
   "id": "943d63f6",
   "metadata": {},
   "outputs": [
    {
     "name": "stdout",
     "output_type": "stream",
     "text": [
      "15.0\n"
     ]
    }
   ],
   "source": [
    "num *= 5\n",
    "print(num)"
   ]
  },
  {
   "cell_type": "code",
   "execution_count": 80,
   "id": "6359a419",
   "metadata": {},
   "outputs": [
    {
     "name": "stdout",
     "output_type": "stream",
     "text": [
      "3.0\n"
     ]
    }
   ],
   "source": [
    "num //= 5\n",
    "print(num)"
   ]
  },
  {
   "cell_type": "code",
   "execution_count": null,
   "id": "b11a5711",
   "metadata": {},
   "outputs": [],
   "source": []
  }
 ],
 "metadata": {
  "kernelspec": {
   "display_name": "Python 3",
   "language": "python",
   "name": "python3"
  },
  "language_info": {
   "codemirror_mode": {
    "name": "ipython",
    "version": 3
   },
   "file_extension": ".py",
   "mimetype": "text/x-python",
   "name": "python",
   "nbconvert_exporter": "python",
   "pygments_lexer": "ipython3",
   "version": "3.8.8"
  }
 },
 "nbformat": 4,
 "nbformat_minor": 5
}
